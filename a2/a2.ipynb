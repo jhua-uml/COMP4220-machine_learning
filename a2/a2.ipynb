{
  "cells": [
    {
      "cell_type": "markdown",
      "metadata": {
        "id": "xolLBPJ6b127"
      },
      "source": [
        "Complete each problem below and print to pdf. Submit the pdf.\n",
        "\n",
        "You will need to work with the three datasets attached to this assignment:\n",
        "\n",
        "*   poverty.csv\n",
        "*   poverty_2.csv\n",
        "*   real_estate.csv"
      ]
    },
    {
      "cell_type": "markdown",
      "metadata": {
        "id": "fajTj7WydVkh"
      },
      "source": [
        "# Problem 1: Univariate Linear Regression"
      ]
    },
    {
      "cell_type": "markdown",
      "metadata": {
        "id": "qY3WWLxLduC_"
      },
      "source": [
        "## 1) import the libraries you will need:\n",
        "numpy \n",
        "pandas\n",
        "matplotlab.pyplot\n",
        "statsmodels.api"
      ]
    },
    {
      "cell_type": "code",
      "source": [
        "import numpy as np\n",
        "import pandas as pd\n",
        "import matplotlib.pyplot as plt\n",
        "import statsmodels.api as sm\n"
      ],
      "metadata": {
        "id": "gbBLGFTkyH8g"
      },
      "execution_count": 349,
      "outputs": []
    },
    {
      "cell_type": "markdown",
      "metadata": {
        "id": "GES3Diiod-VB"
      },
      "source": [
        "## 2) Import the date poverty.csv dataset "
      ]
    },
    {
      "cell_type": "code",
      "source": [
        "data = pd.read_csv(\"poverty.csv\")"
      ],
      "metadata": {
        "id": "_76RFTPlcTfe"
      },
      "execution_count": 393,
      "outputs": []
    },
    {
      "cell_type": "markdown",
      "metadata": {
        "id": "Iil6FA2Fd_60"
      },
      "source": [
        "## 3) Print the dataset indexed upon the location column."
      ]
    },
    {
      "cell_type": "code",
      "source": [
        "data[[\"Location\"]]"
      ],
      "metadata": {
        "colab": {
          "base_uri": "https://localhost:8080/",
          "height": 1578
        },
        "id": "I02NVW44zipd",
        "outputId": "5e299e0f-ff63-4a59-997b-6cb955fa1835"
      },
      "execution_count": 394,
      "outputs": [
        {
          "output_type": "execute_result",
          "data": {
            "text/html": [
              "\n",
              "  <div id=\"df-fa932931-adf3-4bba-94b8-61be1a6c450e\">\n",
              "    <div class=\"colab-df-container\">\n",
              "      <div>\n",
              "<style scoped>\n",
              "    .dataframe tbody tr th:only-of-type {\n",
              "        vertical-align: middle;\n",
              "    }\n",
              "\n",
              "    .dataframe tbody tr th {\n",
              "        vertical-align: top;\n",
              "    }\n",
              "\n",
              "    .dataframe thead th {\n",
              "        text-align: right;\n",
              "    }\n",
              "</style>\n",
              "<table border=\"1\" class=\"dataframe\">\n",
              "  <thead>\n",
              "    <tr style=\"text-align: right;\">\n",
              "      <th></th>\n",
              "      <th>Location</th>\n",
              "    </tr>\n",
              "  </thead>\n",
              "  <tbody>\n",
              "    <tr>\n",
              "      <th>0</th>\n",
              "      <td>Alabama</td>\n",
              "    </tr>\n",
              "    <tr>\n",
              "      <th>1</th>\n",
              "      <td>Alaska</td>\n",
              "    </tr>\n",
              "    <tr>\n",
              "      <th>2</th>\n",
              "      <td>Arizona</td>\n",
              "    </tr>\n",
              "    <tr>\n",
              "      <th>3</th>\n",
              "      <td>Arkansas</td>\n",
              "    </tr>\n",
              "    <tr>\n",
              "      <th>4</th>\n",
              "      <td>California</td>\n",
              "    </tr>\n",
              "    <tr>\n",
              "      <th>5</th>\n",
              "      <td>Colorado</td>\n",
              "    </tr>\n",
              "    <tr>\n",
              "      <th>6</th>\n",
              "      <td>Connecticut</td>\n",
              "    </tr>\n",
              "    <tr>\n",
              "      <th>7</th>\n",
              "      <td>Delaware</td>\n",
              "    </tr>\n",
              "    <tr>\n",
              "      <th>8</th>\n",
              "      <td>District_of_Columbia</td>\n",
              "    </tr>\n",
              "    <tr>\n",
              "      <th>9</th>\n",
              "      <td>Florida</td>\n",
              "    </tr>\n",
              "    <tr>\n",
              "      <th>10</th>\n",
              "      <td>Georgia</td>\n",
              "    </tr>\n",
              "    <tr>\n",
              "      <th>11</th>\n",
              "      <td>Hawaii</td>\n",
              "    </tr>\n",
              "    <tr>\n",
              "      <th>12</th>\n",
              "      <td>Idaho</td>\n",
              "    </tr>\n",
              "    <tr>\n",
              "      <th>13</th>\n",
              "      <td>Illinois</td>\n",
              "    </tr>\n",
              "    <tr>\n",
              "      <th>14</th>\n",
              "      <td>Indiana</td>\n",
              "    </tr>\n",
              "    <tr>\n",
              "      <th>15</th>\n",
              "      <td>Iowa</td>\n",
              "    </tr>\n",
              "    <tr>\n",
              "      <th>16</th>\n",
              "      <td>Kansas</td>\n",
              "    </tr>\n",
              "    <tr>\n",
              "      <th>17</th>\n",
              "      <td>Kentucky</td>\n",
              "    </tr>\n",
              "    <tr>\n",
              "      <th>18</th>\n",
              "      <td>Louisiana</td>\n",
              "    </tr>\n",
              "    <tr>\n",
              "      <th>19</th>\n",
              "      <td>Maine</td>\n",
              "    </tr>\n",
              "    <tr>\n",
              "      <th>20</th>\n",
              "      <td>Maryland</td>\n",
              "    </tr>\n",
              "    <tr>\n",
              "      <th>21</th>\n",
              "      <td>Massachusetts</td>\n",
              "    </tr>\n",
              "    <tr>\n",
              "      <th>22</th>\n",
              "      <td>Michigan</td>\n",
              "    </tr>\n",
              "    <tr>\n",
              "      <th>23</th>\n",
              "      <td>Minnesota</td>\n",
              "    </tr>\n",
              "    <tr>\n",
              "      <th>24</th>\n",
              "      <td>Mississippi</td>\n",
              "    </tr>\n",
              "    <tr>\n",
              "      <th>25</th>\n",
              "      <td>Missouri</td>\n",
              "    </tr>\n",
              "    <tr>\n",
              "      <th>26</th>\n",
              "      <td>Montana</td>\n",
              "    </tr>\n",
              "    <tr>\n",
              "      <th>27</th>\n",
              "      <td>Nebraska</td>\n",
              "    </tr>\n",
              "    <tr>\n",
              "      <th>28</th>\n",
              "      <td>Nevada</td>\n",
              "    </tr>\n",
              "    <tr>\n",
              "      <th>29</th>\n",
              "      <td>New_Hampshire</td>\n",
              "    </tr>\n",
              "    <tr>\n",
              "      <th>30</th>\n",
              "      <td>New_Jersey</td>\n",
              "    </tr>\n",
              "    <tr>\n",
              "      <th>31</th>\n",
              "      <td>New_Mexico</td>\n",
              "    </tr>\n",
              "    <tr>\n",
              "      <th>32</th>\n",
              "      <td>New_York</td>\n",
              "    </tr>\n",
              "    <tr>\n",
              "      <th>33</th>\n",
              "      <td>North_Carolina</td>\n",
              "    </tr>\n",
              "    <tr>\n",
              "      <th>34</th>\n",
              "      <td>North_Dakota</td>\n",
              "    </tr>\n",
              "    <tr>\n",
              "      <th>35</th>\n",
              "      <td>Ohio</td>\n",
              "    </tr>\n",
              "    <tr>\n",
              "      <th>36</th>\n",
              "      <td>Oklahoma</td>\n",
              "    </tr>\n",
              "    <tr>\n",
              "      <th>37</th>\n",
              "      <td>Oregon</td>\n",
              "    </tr>\n",
              "    <tr>\n",
              "      <th>38</th>\n",
              "      <td>Pennsylvania</td>\n",
              "    </tr>\n",
              "    <tr>\n",
              "      <th>39</th>\n",
              "      <td>Rhode_Island</td>\n",
              "    </tr>\n",
              "    <tr>\n",
              "      <th>40</th>\n",
              "      <td>South_Carolina</td>\n",
              "    </tr>\n",
              "    <tr>\n",
              "      <th>41</th>\n",
              "      <td>South_Dakota</td>\n",
              "    </tr>\n",
              "    <tr>\n",
              "      <th>42</th>\n",
              "      <td>Tennessee</td>\n",
              "    </tr>\n",
              "    <tr>\n",
              "      <th>43</th>\n",
              "      <td>Texas</td>\n",
              "    </tr>\n",
              "    <tr>\n",
              "      <th>44</th>\n",
              "      <td>Utah</td>\n",
              "    </tr>\n",
              "    <tr>\n",
              "      <th>45</th>\n",
              "      <td>Vermont</td>\n",
              "    </tr>\n",
              "    <tr>\n",
              "      <th>46</th>\n",
              "      <td>Virginia</td>\n",
              "    </tr>\n",
              "    <tr>\n",
              "      <th>47</th>\n",
              "      <td>Washington</td>\n",
              "    </tr>\n",
              "    <tr>\n",
              "      <th>48</th>\n",
              "      <td>West_Virginia</td>\n",
              "    </tr>\n",
              "    <tr>\n",
              "      <th>49</th>\n",
              "      <td>Wisconsin</td>\n",
              "    </tr>\n",
              "    <tr>\n",
              "      <th>50</th>\n",
              "      <td>Wyoming</td>\n",
              "    </tr>\n",
              "  </tbody>\n",
              "</table>\n",
              "</div>\n",
              "      <button class=\"colab-df-convert\" onclick=\"convertToInteractive('df-fa932931-adf3-4bba-94b8-61be1a6c450e')\"\n",
              "              title=\"Convert this dataframe to an interactive table.\"\n",
              "              style=\"display:none;\">\n",
              "        \n",
              "  <svg xmlns=\"http://www.w3.org/2000/svg\" height=\"24px\"viewBox=\"0 0 24 24\"\n",
              "       width=\"24px\">\n",
              "    <path d=\"M0 0h24v24H0V0z\" fill=\"none\"/>\n",
              "    <path d=\"M18.56 5.44l.94 2.06.94-2.06 2.06-.94-2.06-.94-.94-2.06-.94 2.06-2.06.94zm-11 1L8.5 8.5l.94-2.06 2.06-.94-2.06-.94L8.5 2.5l-.94 2.06-2.06.94zm10 10l.94 2.06.94-2.06 2.06-.94-2.06-.94-.94-2.06-.94 2.06-2.06.94z\"/><path d=\"M17.41 7.96l-1.37-1.37c-.4-.4-.92-.59-1.43-.59-.52 0-1.04.2-1.43.59L10.3 9.45l-7.72 7.72c-.78.78-.78 2.05 0 2.83L4 21.41c.39.39.9.59 1.41.59.51 0 1.02-.2 1.41-.59l7.78-7.78 2.81-2.81c.8-.78.8-2.07 0-2.86zM5.41 20L4 18.59l7.72-7.72 1.47 1.35L5.41 20z\"/>\n",
              "  </svg>\n",
              "      </button>\n",
              "      \n",
              "  <style>\n",
              "    .colab-df-container {\n",
              "      display:flex;\n",
              "      flex-wrap:wrap;\n",
              "      gap: 12px;\n",
              "    }\n",
              "\n",
              "    .colab-df-convert {\n",
              "      background-color: #E8F0FE;\n",
              "      border: none;\n",
              "      border-radius: 50%;\n",
              "      cursor: pointer;\n",
              "      display: none;\n",
              "      fill: #1967D2;\n",
              "      height: 32px;\n",
              "      padding: 0 0 0 0;\n",
              "      width: 32px;\n",
              "    }\n",
              "\n",
              "    .colab-df-convert:hover {\n",
              "      background-color: #E2EBFA;\n",
              "      box-shadow: 0px 1px 2px rgba(60, 64, 67, 0.3), 0px 1px 3px 1px rgba(60, 64, 67, 0.15);\n",
              "      fill: #174EA6;\n",
              "    }\n",
              "\n",
              "    [theme=dark] .colab-df-convert {\n",
              "      background-color: #3B4455;\n",
              "      fill: #D2E3FC;\n",
              "    }\n",
              "\n",
              "    [theme=dark] .colab-df-convert:hover {\n",
              "      background-color: #434B5C;\n",
              "      box-shadow: 0px 1px 3px 1px rgba(0, 0, 0, 0.15);\n",
              "      filter: drop-shadow(0px 1px 2px rgba(0, 0, 0, 0.3));\n",
              "      fill: #FFFFFF;\n",
              "    }\n",
              "  </style>\n",
              "\n",
              "      <script>\n",
              "        const buttonEl =\n",
              "          document.querySelector('#df-fa932931-adf3-4bba-94b8-61be1a6c450e button.colab-df-convert');\n",
              "        buttonEl.style.display =\n",
              "          google.colab.kernel.accessAllowed ? 'block' : 'none';\n",
              "\n",
              "        async function convertToInteractive(key) {\n",
              "          const element = document.querySelector('#df-fa932931-adf3-4bba-94b8-61be1a6c450e');\n",
              "          const dataTable =\n",
              "            await google.colab.kernel.invokeFunction('convertToInteractive',\n",
              "                                                     [key], {});\n",
              "          if (!dataTable) return;\n",
              "\n",
              "          const docLinkHtml = 'Like what you see? Visit the ' +\n",
              "            '<a target=\"_blank\" href=https://colab.research.google.com/notebooks/data_table.ipynb>data table notebook</a>'\n",
              "            + ' to learn more about interactive tables.';\n",
              "          element.innerHTML = '';\n",
              "          dataTable['output_type'] = 'display_data';\n",
              "          await google.colab.output.renderOutput(dataTable, element);\n",
              "          const docLink = document.createElement('div');\n",
              "          docLink.innerHTML = docLinkHtml;\n",
              "          element.appendChild(docLink);\n",
              "        }\n",
              "      </script>\n",
              "    </div>\n",
              "  </div>\n",
              "  "
            ],
            "text/plain": [
              "                Location\n",
              "0                Alabama\n",
              "1                 Alaska\n",
              "2                Arizona\n",
              "3               Arkansas\n",
              "4             California\n",
              "5               Colorado\n",
              "6            Connecticut\n",
              "7               Delaware\n",
              "8   District_of_Columbia\n",
              "9                Florida\n",
              "10               Georgia\n",
              "11                Hawaii\n",
              "12                 Idaho\n",
              "13              Illinois\n",
              "14               Indiana\n",
              "15                  Iowa\n",
              "16                Kansas\n",
              "17              Kentucky\n",
              "18             Louisiana\n",
              "19                 Maine\n",
              "20              Maryland\n",
              "21         Massachusetts\n",
              "22              Michigan\n",
              "23             Minnesota\n",
              "24           Mississippi\n",
              "25              Missouri\n",
              "26               Montana\n",
              "27              Nebraska\n",
              "28                Nevada\n",
              "29         New_Hampshire\n",
              "30            New_Jersey\n",
              "31            New_Mexico\n",
              "32              New_York\n",
              "33        North_Carolina\n",
              "34          North_Dakota\n",
              "35                  Ohio\n",
              "36              Oklahoma\n",
              "37                Oregon\n",
              "38          Pennsylvania\n",
              "39          Rhode_Island\n",
              "40        South_Carolina\n",
              "41          South_Dakota\n",
              "42             Tennessee\n",
              "43                 Texas\n",
              "44                  Utah\n",
              "45               Vermont\n",
              "46              Virginia\n",
              "47            Washington\n",
              "48         West_Virginia\n",
              "49             Wisconsin\n",
              "50               Wyoming"
            ]
          },
          "metadata": {},
          "execution_count": 394
        }
      ]
    },
    {
      "cell_type": "markdown",
      "metadata": {
        "id": "LbI0lor1eCey"
      },
      "source": [
        "## 4) Get useful descriptive statistial data on the dataset.\n",
        "Hint: this is a single line, data._____ "
      ]
    },
    {
      "cell_type": "code",
      "source": [
        "data.describe()"
      ],
      "metadata": {
        "colab": {
          "base_uri": "https://localhost:8080/",
          "height": 288
        },
        "id": "ZjxOHlnY0eZU",
        "outputId": "2927f94e-72d2-41d0-c7f1-29f9fa2320fe"
      },
      "execution_count": 352,
      "outputs": [
        {
          "output_type": "execute_result",
          "data": {
            "text/html": [
              "\n",
              "  <div id=\"df-6c15331e-629e-426a-a074-b4de249c8b51\">\n",
              "    <div class=\"colab-df-container\">\n",
              "      <div>\n",
              "<style scoped>\n",
              "    .dataframe tbody tr th:only-of-type {\n",
              "        vertical-align: middle;\n",
              "    }\n",
              "\n",
              "    .dataframe tbody tr th {\n",
              "        vertical-align: top;\n",
              "    }\n",
              "\n",
              "    .dataframe thead th {\n",
              "        text-align: right;\n",
              "    }\n",
              "</style>\n",
              "<table border=\"1\" class=\"dataframe\">\n",
              "  <thead>\n",
              "    <tr style=\"text-align: right;\">\n",
              "      <th></th>\n",
              "      <th>PovPct</th>\n",
              "      <th>Brth15to17</th>\n",
              "      <th>Brth18to19</th>\n",
              "      <th>ViolCrime</th>\n",
              "      <th>TeenBrth</th>\n",
              "    </tr>\n",
              "  </thead>\n",
              "  <tbody>\n",
              "    <tr>\n",
              "      <th>count</th>\n",
              "      <td>51.000000</td>\n",
              "      <td>51.000000</td>\n",
              "      <td>51.000000</td>\n",
              "      <td>51.000000</td>\n",
              "      <td>51.000000</td>\n",
              "    </tr>\n",
              "    <tr>\n",
              "      <th>mean</th>\n",
              "      <td>13.117647</td>\n",
              "      <td>22.282353</td>\n",
              "      <td>72.019608</td>\n",
              "      <td>7.854902</td>\n",
              "      <td>42.243137</td>\n",
              "    </tr>\n",
              "    <tr>\n",
              "      <th>std</th>\n",
              "      <td>4.277228</td>\n",
              "      <td>8.043499</td>\n",
              "      <td>18.975563</td>\n",
              "      <td>8.914131</td>\n",
              "      <td>12.318511</td>\n",
              "    </tr>\n",
              "    <tr>\n",
              "      <th>min</th>\n",
              "      <td>5.300000</td>\n",
              "      <td>8.100000</td>\n",
              "      <td>39.000000</td>\n",
              "      <td>0.900000</td>\n",
              "      <td>20.000000</td>\n",
              "    </tr>\n",
              "    <tr>\n",
              "      <th>25%</th>\n",
              "      <td>10.250000</td>\n",
              "      <td>17.250000</td>\n",
              "      <td>58.300000</td>\n",
              "      <td>3.900000</td>\n",
              "      <td>33.900000</td>\n",
              "    </tr>\n",
              "    <tr>\n",
              "      <th>50%</th>\n",
              "      <td>12.200000</td>\n",
              "      <td>20.000000</td>\n",
              "      <td>69.400000</td>\n",
              "      <td>6.300000</td>\n",
              "      <td>39.500000</td>\n",
              "    </tr>\n",
              "    <tr>\n",
              "      <th>75%</th>\n",
              "      <td>15.800000</td>\n",
              "      <td>28.100000</td>\n",
              "      <td>87.950000</td>\n",
              "      <td>9.450000</td>\n",
              "      <td>52.600000</td>\n",
              "    </tr>\n",
              "    <tr>\n",
              "      <th>max</th>\n",
              "      <td>25.300000</td>\n",
              "      <td>44.800000</td>\n",
              "      <td>104.300000</td>\n",
              "      <td>65.000000</td>\n",
              "      <td>69.100000</td>\n",
              "    </tr>\n",
              "  </tbody>\n",
              "</table>\n",
              "</div>\n",
              "      <button class=\"colab-df-convert\" onclick=\"convertToInteractive('df-6c15331e-629e-426a-a074-b4de249c8b51')\"\n",
              "              title=\"Convert this dataframe to an interactive table.\"\n",
              "              style=\"display:none;\">\n",
              "        \n",
              "  <svg xmlns=\"http://www.w3.org/2000/svg\" height=\"24px\"viewBox=\"0 0 24 24\"\n",
              "       width=\"24px\">\n",
              "    <path d=\"M0 0h24v24H0V0z\" fill=\"none\"/>\n",
              "    <path d=\"M18.56 5.44l.94 2.06.94-2.06 2.06-.94-2.06-.94-.94-2.06-.94 2.06-2.06.94zm-11 1L8.5 8.5l.94-2.06 2.06-.94-2.06-.94L8.5 2.5l-.94 2.06-2.06.94zm10 10l.94 2.06.94-2.06 2.06-.94-2.06-.94-.94-2.06-.94 2.06-2.06.94z\"/><path d=\"M17.41 7.96l-1.37-1.37c-.4-.4-.92-.59-1.43-.59-.52 0-1.04.2-1.43.59L10.3 9.45l-7.72 7.72c-.78.78-.78 2.05 0 2.83L4 21.41c.39.39.9.59 1.41.59.51 0 1.02-.2 1.41-.59l7.78-7.78 2.81-2.81c.8-.78.8-2.07 0-2.86zM5.41 20L4 18.59l7.72-7.72 1.47 1.35L5.41 20z\"/>\n",
              "  </svg>\n",
              "      </button>\n",
              "      \n",
              "  <style>\n",
              "    .colab-df-container {\n",
              "      display:flex;\n",
              "      flex-wrap:wrap;\n",
              "      gap: 12px;\n",
              "    }\n",
              "\n",
              "    .colab-df-convert {\n",
              "      background-color: #E8F0FE;\n",
              "      border: none;\n",
              "      border-radius: 50%;\n",
              "      cursor: pointer;\n",
              "      display: none;\n",
              "      fill: #1967D2;\n",
              "      height: 32px;\n",
              "      padding: 0 0 0 0;\n",
              "      width: 32px;\n",
              "    }\n",
              "\n",
              "    .colab-df-convert:hover {\n",
              "      background-color: #E2EBFA;\n",
              "      box-shadow: 0px 1px 2px rgba(60, 64, 67, 0.3), 0px 1px 3px 1px rgba(60, 64, 67, 0.15);\n",
              "      fill: #174EA6;\n",
              "    }\n",
              "\n",
              "    [theme=dark] .colab-df-convert {\n",
              "      background-color: #3B4455;\n",
              "      fill: #D2E3FC;\n",
              "    }\n",
              "\n",
              "    [theme=dark] .colab-df-convert:hover {\n",
              "      background-color: #434B5C;\n",
              "      box-shadow: 0px 1px 3px 1px rgba(0, 0, 0, 0.15);\n",
              "      filter: drop-shadow(0px 1px 2px rgba(0, 0, 0, 0.3));\n",
              "      fill: #FFFFFF;\n",
              "    }\n",
              "  </style>\n",
              "\n",
              "      <script>\n",
              "        const buttonEl =\n",
              "          document.querySelector('#df-6c15331e-629e-426a-a074-b4de249c8b51 button.colab-df-convert');\n",
              "        buttonEl.style.display =\n",
              "          google.colab.kernel.accessAllowed ? 'block' : 'none';\n",
              "\n",
              "        async function convertToInteractive(key) {\n",
              "          const element = document.querySelector('#df-6c15331e-629e-426a-a074-b4de249c8b51');\n",
              "          const dataTable =\n",
              "            await google.colab.kernel.invokeFunction('convertToInteractive',\n",
              "                                                     [key], {});\n",
              "          if (!dataTable) return;\n",
              "\n",
              "          const docLinkHtml = 'Like what you see? Visit the ' +\n",
              "            '<a target=\"_blank\" href=https://colab.research.google.com/notebooks/data_table.ipynb>data table notebook</a>'\n",
              "            + ' to learn more about interactive tables.';\n",
              "          element.innerHTML = '';\n",
              "          dataTable['output_type'] = 'display_data';\n",
              "          await google.colab.output.renderOutput(dataTable, element);\n",
              "          const docLink = document.createElement('div');\n",
              "          docLink.innerHTML = docLinkHtml;\n",
              "          element.appendChild(docLink);\n",
              "        }\n",
              "      </script>\n",
              "    </div>\n",
              "  </div>\n",
              "  "
            ],
            "text/plain": [
              "          PovPct  Brth15to17  Brth18to19  ViolCrime   TeenBrth\n",
              "count  51.000000   51.000000   51.000000  51.000000  51.000000\n",
              "mean   13.117647   22.282353   72.019608   7.854902  42.243137\n",
              "std     4.277228    8.043499   18.975563   8.914131  12.318511\n",
              "min     5.300000    8.100000   39.000000   0.900000  20.000000\n",
              "25%    10.250000   17.250000   58.300000   3.900000  33.900000\n",
              "50%    12.200000   20.000000   69.400000   6.300000  39.500000\n",
              "75%    15.800000   28.100000   87.950000   9.450000  52.600000\n",
              "max    25.300000   44.800000  104.300000  65.000000  69.100000"
            ]
          },
          "metadata": {},
          "execution_count": 352
        }
      ]
    },
    {
      "cell_type": "markdown",
      "metadata": {
        "id": "WIwY_FKS0MQZ"
      },
      "source": [
        "##5) Print the columns"
      ]
    },
    {
      "cell_type": "code",
      "source": [
        "print(data.columns)"
      ],
      "metadata": {
        "colab": {
          "base_uri": "https://localhost:8080/",
          "height": 0
        },
        "id": "4wb__ag93VUn",
        "outputId": "d4688275-f224-491f-c9fd-180d67f858b5"
      },
      "execution_count": 353,
      "outputs": [
        {
          "output_type": "stream",
          "name": "stdout",
          "text": [
            "Index(['Location', 'PovPct', 'Brth15to17', 'Brth18to19', 'ViolCrime',\n",
            "       'TeenBrth'],\n",
            "      dtype='object')\n"
          ]
        }
      ]
    },
    {
      "cell_type": "markdown",
      "metadata": {
        "id": "mh1LJDq4eD-0"
      },
      "source": [
        "## 6) Create a regression line based upon the dependent and independent variables:\n",
        "PovPct \n",
        "Brth18to19\n",
        "\n",
        "In this step only create a scatterplot of the two variables, simply plotting the data.\n",
        "\n",
        "Note: The variable PovPct is the percent of a state’s population in 2000 living in households with incomes below the federally defined poverty level. "
      ]
    },
    {
      "cell_type": "code",
      "source": [
        "data.plot(kind='scatter',x='Brth18to19',y='PovPct')"
      ],
      "metadata": {
        "colab": {
          "base_uri": "https://localhost:8080/",
          "height": 297
        },
        "id": "CJpJfnc235__",
        "outputId": "973dc093-5648-4760-cdca-5a1638b74397"
      },
      "execution_count": 354,
      "outputs": [
        {
          "output_type": "execute_result",
          "data": {
            "text/plain": [
              "<matplotlib.axes._subplots.AxesSubplot at 0x7ff071686350>"
            ]
          },
          "metadata": {},
          "execution_count": 354
        },
        {
          "output_type": "display_data",
          "data": {
            "image/png": "[encoded data removed]",
            "text/plain": [
              "<Figure size 432x288 with 1 Axes>"
            ]
          },
          "metadata": {
            "needs_background": "light"
          }
        }
      ]
    },
    {
      "cell_type": "markdown",
      "metadata": {
        "id": "ToC_9hnc3mkd"
      },
      "source": [
        "## 7) Lets create a new variable, x1, as well as the results variable:\n",
        "Example would be\n",
        "1.   x1 = sm.add_constant(x)\n",
        "2.   results = sm.OLS(y, x1).fit()\n",
        "3.   results.summary()\n",
        "\n",
        "This gives you the OLS Regression results, the coefficients table, and some additional tests. The data that you are interested in is the coefficient values. This is the value for the constant you created is b0, and birth19to19 is b1 in the regression equation.\n"
      ]
    },
    {
      "cell_type": "code",
      "source": [
        "x = data[\"Brth18to19\"]\n",
        "y = data[\"PovPct\"]\n",
        "x1 =  sm.add_constant(x)\n",
        "results = sm.OLS(y, x1).fit()\n",
        "print(results.summary())"
      ],
      "metadata": {
        "colab": {
          "base_uri": "https://localhost:8080/",
          "height": 0
        },
        "id": "v9egCRgm-M1l",
        "outputId": "c68d6562-d9f3-41f0-bc9e-45cc106028bf"
      },
      "execution_count": 355,
      "outputs": [
        {
          "output_type": "stream",
          "name": "stdout",
          "text": [
            "                            OLS Regression Results                            \n",
            "==============================================================================\n",
            "Dep. Variable:                 PovPct   R-squared:                       0.422\n",
            "Model:                            OLS   Adj. R-squared:                  0.410\n",
            "Method:                 Least Squares   F-statistic:                     35.78\n",
            "Date:                Fri, 18 Feb 2022   Prob (F-statistic):           2.50e-07\n",
            "Time:                        20:25:38   Log-Likelihood:                -132.00\n",
            "No. Observations:                  51   AIC:                             268.0\n",
            "Df Residuals:                      49   BIC:                             271.9\n",
            "Df Model:                           1                                         \n",
            "Covariance Type:            nonrobust                                         \n",
            "==============================================================================\n",
            "                 coef    std err          t      P>|t|      [0.025      0.975]\n",
            "------------------------------------------------------------------------------\n",
            "const          2.5712      1.822      1.411      0.165      -1.090       6.233\n",
            "Brth18to19     0.1464      0.024      5.982      0.000       0.097       0.196\n",
            "==============================================================================\n",
            "Omnibus:                        0.886   Durbin-Watson:                   2.265\n",
            "Prob(Omnibus):                  0.642   Jarque-Bera (JB):                0.944\n",
            "Skew:                           0.283   Prob(JB):                        0.624\n",
            "Kurtosis:                       2.647   Cond. No.                         295.\n",
            "==============================================================================\n",
            "\n",
            "Warnings:\n",
            "[1] Standard Errors assume that the covariance matrix of the errors is correctly specified.\n"
          ]
        },
        {
          "output_type": "stream",
          "name": "stderr",
          "text": [
            "/usr/local/lib/python3.7/dist-packages/statsmodels/tsa/tsatools.py:117: FutureWarning: In a future version of pandas all arguments of concat except for the argument 'objs' will be keyword-only\n",
            "  x = pd.concat(x[::order], 1)\n"
          ]
        }
      ]
    },
    {
      "cell_type": "markdown",
      "metadata": {
        "id": "fVJyXsLO4UAD"
      },
      "source": [
        "## 8) Taking the coeffient values for the new constant and the Y variable, create a scatterplot:\n",
        "\n",
        "e.g. \n",
        "yhat = 0.1464*x + 0.25712\n",
        "fig = plt.plot(x, yhat, lw=4, c='red', label = 'regression line')"
      ]
    },
    {
      "cell_type": "code",
      "source": [
        "yhat = 0.1464*x + 2.5712\n",
        "# 2.5712 (this is our theta_0)\n",
        "# 0.1464 (this is our theta_1)\n",
        "\n",
        "data.plot(kind='scatter',x='Brth18to19',y='PovPct')\n",
        "fig = plt.plot(x, yhat, linewidth=2, c='blue', label='regression line')\n"
      ],
      "metadata": {
        "colab": {
          "base_uri": "https://localhost:8080/",
          "height": 279
        },
        "id": "bCVN1a9BBGxa",
        "outputId": "e8856e81-5b5a-4f4c-e194-5e3ceefe3240"
      },
      "execution_count": 356,
      "outputs": [
        {
          "output_type": "display_data",
          "data": {
            "image/png": "[encoded data removed]",
            "text/plain": [
              "<Figure size 432x288 with 1 Axes>"
            ]
          },
          "metadata": {
            "needs_background": "light"
          }
        }
      ]
    },
    {
      "cell_type": "markdown",
      "metadata": {
        "id": "RnPQCYcn4Bbq"
      },
      "source": [
        "# Problem 2: Implement code from lecture"
      ]
    },
    {
      "cell_type": "markdown",
      "metadata": {
        "id": "nBbYAVMj4HaL"
      },
      "source": [
        "## 1) Perform linear regression using the normal equation, as done in slides."
      ]
    },
    {
      "cell_type": "code",
      "source": [
        "# Lecture February 8th 2022 for reference\n",
        "\n",
        "# Plotting our data...\n",
        "X = data[\"Brth18to19\"]\n",
        "y = data[\"PovPct\"]\n",
        "plt.plot(X, y, \"b.\")\n",
        "plt.xlabel(\"$x_1$\", fontsize=18)\n",
        "plt.ylabel(\"$y$\", rotation=2, fontsize=18)\n",
        "\n",
        "\n",
        "X_b = np.c_[np.ones((51,1)), X] # Adding artificial features (we have 51 data points so add 51 1's)\n",
        "theta_best = np.linalg.inv(X_b.T.dot(X_b)).dot(X_b.T).dot(y) # The normal equation\n",
        "\n",
        "# Draw the regression line from theta_best\n",
        "fig = plt.plot(x, theta_best[1]*x + theta_best[0], linewidth=2, c='red', label='regression line')\n",
        "\n",
        "print(\"Predicted solution using the normal equation: \", theta_best) \n",
        "\n"
      ],
      "metadata": {
        "colab": {
          "base_uri": "https://localhost:8080/",
          "height": 305
        },
        "id": "KpOgzky_mAR3",
        "outputId": "bfdef1e3-1820-4941-8d24-94cfeef9160e"
      },
      "execution_count": 357,
      "outputs": [
        {
          "output_type": "stream",
          "name": "stdout",
          "text": [
            "Predicted solution using the normal equation:  [2.57123525 0.14643806]\n"
          ]
        },
        {
          "output_type": "display_data",
          "data": {
            "image/png": "[encoded data removed]",
            "text/plain": [
              "<Figure size 432x288 with 1 Axes>"
            ]
          },
          "metadata": {
            "needs_background": "light"
          }
        }
      ]
    },
    {
      "cell_type": "markdown",
      "metadata": {
        "id": "56VkD2C04SaF"
      },
      "source": [
        "## 2) Perform linear regression using Scikit-Learn, as done in the slides."
      ]
    },
    {
      "cell_type": "code",
      "source": [
        "from sklearn.linear_model import LinearRegression\n",
        "X = data[\"Brth18to19\"]\n",
        "y = data[\"PovPct\"]\n",
        "\n",
        "lin_reg =  LinearRegression() # instantiate LinearRegression\n",
        "lin_reg.fit(X_b, y) # X_b from earlier where we added the artificial features\n",
        "print(lin_reg.intercept_, lin_reg.coef_[1]) # theta_0 is always the intercept, theta_1 is the coefficient\n"
      ],
      "metadata": {
        "colab": {
          "base_uri": "https://localhost:8080/",
          "height": 0
        },
        "id": "hCibXZK8sg4B",
        "outputId": "901e503c-d36b-4e24-9309-74a76b4b9855"
      },
      "execution_count": 358,
      "outputs": [
        {
          "output_type": "stream",
          "name": "stdout",
          "text": [
            "2.571235250308659 0.14643806213837704\n"
          ]
        }
      ]
    },
    {
      "cell_type": "markdown",
      "metadata": {
        "id": "zPQRoKB__648"
      },
      "source": [
        "# Problem 3: Multivariate Linear Regression\n",
        "In this problem we will continue using the poverty dataset. Do poverty and violent crimes affect teen pregnancy?"
      ]
    },
    {
      "cell_type": "code",
      "source": [
        "# Lecture February 15rd 2022 @ "
      ],
      "metadata": {
        "id": "itiSj9HyEhCP"
      },
      "execution_count": null,
      "outputs": []
    },
    {
      "cell_type": "markdown",
      "metadata": {
        "id": "YSI7RrmC_H7N"
      },
      "source": [
        "## 1) import the libraries you will need:\n",
        "numpy \n",
        "pandas\n",
        "matplotlab.pyplot\n",
        "statsmodels.api"
      ]
    },
    {
      "cell_type": "code",
      "execution_count": 359,
      "metadata": {
        "id": "tx5Ru5TY_H7S"
      },
      "outputs": [],
      "source": [
        "import numpy as np\n",
        "import pandas as pd\n",
        "from sklearn.preprocessing import normalize"
      ]
    },
    {
      "cell_type": "markdown",
      "metadata": {
        "id": "TaWWSisg_649"
      },
      "source": [
        "\n",
        "## 2) Import the dataset, poverty_2.csv, and print it.\n"
      ]
    },
    {
      "cell_type": "code",
      "source": [
        "data = pd.read_csv(\"poverty_2.csv\")"
      ],
      "metadata": {
        "id": "nYRJHEj2A0hL"
      },
      "execution_count": 361,
      "outputs": []
    },
    {
      "cell_type": "markdown",
      "metadata": {
        "id": "3Zf-n8sbeHHL"
      },
      "source": [
        "## 3) We need to normalize the input variables."
      ]
    },
    {
      "cell_type": "code",
      "execution_count": 362,
      "metadata": {
        "id": "hO0d_GoUlC3t"
      },
      "outputs": [],
      "source": [
        "data = normalize(data, axis=0)"
      ]
    },
    {
      "cell_type": "markdown",
      "metadata": {
        "id": "-S46a6gpeHHL"
      },
      "source": [
        "## 4) Split the data into input variables, X, and the output variable, Y"
      ]
    },
    {
      "cell_type": "code",
      "source": [
        "X = data[:,0:2]\n",
        "Y= data[:,2:]\n",
        "\n"
      ],
      "metadata": {
        "id": "_XdR_3TXnFGS"
      },
      "execution_count": 363,
      "outputs": []
    },
    {
      "cell_type": "markdown",
      "metadata": {
        "id": "DkF0OabICS20"
      },
      "source": [
        "## 5) Graph the dataset with a seed of 42.\n",
        "Replace the FILLINTHESEVALUES fields."
      ]
    },
    {
      "cell_type": "code",
      "execution_count": 364,
      "metadata": {
        "id": "9eJ7bw4ycZib",
        "colab": {
          "base_uri": "https://localhost:8080/",
          "height": 248
        },
        "outputId": "30635a0b-3fc4-4ec2-feae-2ec15929f101"
      },
      "outputs": [
        {
          "output_type": "display_data",
          "data": {
            "image/png": "[encoded data removed]",
            "text/plain": [
              "<Figure size 432x288 with 1 Axes>"
            ]
          },
          "metadata": {
            "needs_background": "light"
          }
        }
      ],
      "source": [
        "np.random.seed(42)\n",
        "\n",
        "fig = plt.figure()\n",
        "ax = fig.add_subplot(111, projection='3d')\n",
        "\n",
        "xs = data[:,0:1]\n",
        "ys = data[:,1:2]\n",
        "zs = data[:,2:3]\n",
        "ax.scatter(xs, ys, zs)\n",
        "\n",
        "ax.set_xlabel('PovPct')\n",
        "ax.set_ylabel('ViolCrime')\n",
        "ax.set_zlabel('TeenBrth')\n",
        "\n",
        "plt.show()"
      ]
    },
    {
      "cell_type": "markdown",
      "metadata": {
        "id": "Tve3fCf4Vkwp"
      },
      "source": [
        "## 6) Implement  Gradient Descent.\n",
        "This section has be provided. Please run and understand the code."
      ]
    },
    {
      "cell_type": "code",
      "execution_count": 365,
      "metadata": {
        "id": "5u9UlY8KVvE7"
      },
      "outputs": [],
      "source": [
        "# hyperparameters\n",
        "learning_rate = 0.05\n",
        "max_iteration = 500\n",
        "\n",
        "#parameters\n",
        "theta = np.zeros((data.shape[1], 1))"
      ]
    },
    {
      "cell_type": "code",
      "execution_count": 366,
      "metadata": {
        "id": "o2ec_B8VDjCu"
      },
      "outputs": [],
      "source": [
        "def hypothesis (theta, X) :\n",
        "  tempX = np.ones((X.shape[0], X.shape[1] + 1))\n",
        "  tempX[:,1:] = X\n",
        "  return np.matmul(tempX, theta)"
      ]
    },
    {
      "cell_type": "code",
      "execution_count": 367,
      "metadata": {
        "id": "lLP0RAS1PQQ4"
      },
      "outputs": [],
      "source": [
        "def loss (theta, X, Y) :\n",
        "  return np.average(np.square(Y - h(theta, X))) / 2"
      ]
    },
    {
      "cell_type": "code",
      "execution_count": 368,
      "metadata": {
        "id": "Nue2ZoX_DnrU"
      },
      "outputs": [],
      "source": [
        "def gradient (theta, X, Y) :\n",
        "  tempX = np.ones((X.shape[0], X.shape[1] + 1))\n",
        "  tempX[:,1:] = X\n",
        "  d_theta = - np.average((Y - hypothesis(theta, X)) * tempX, axis= 0)\n",
        "  d_theta = d_theta.reshape((d_theta.shape[0], 1))\n",
        "  return d_theta"
      ]
    },
    {
      "cell_type": "code",
      "execution_count": 369,
      "metadata": {
        "id": "dBeDemDvDrif"
      },
      "outputs": [],
      "source": [
        "def gradient_descent (theta, X, Y, learning_rate, max_iteration, gap) :\n",
        "  cost = np.zeros(max_iteration)\n",
        "  for i in range(max_iteration) :\n",
        "    d_theta = gradient (theta, X, Y)\n",
        "    theta = theta - learning_rate * d_theta\n",
        "    cost[i] = loss(theta, X, Y)\n",
        "    if i % gap == 0 :\n",
        "      print ('iteration : ', i, ' loss : ', loss(theta, X, Y)) \n",
        "  return theta, cost"
      ]
    },
    {
      "cell_type": "code",
      "execution_count": 370,
      "metadata": {
        "id": "5ufuj_wODwQy",
        "colab": {
          "base_uri": "https://localhost:8080/",
          "height": 0
        },
        "outputId": "49e7fcea-24e7-4a2c-e5c8-141b8a198c1d"
      },
      "outputs": [
        {
          "output_type": "stream",
          "name": "stdout",
          "text": [
            "iteration :  0  loss :  0.008893757788504215\n",
            "iteration :  100  loss :  0.0006811106575134702\n",
            "iteration :  200  loss :  0.0006573219302696655\n",
            "iteration :  300  loss :  0.0006360731168287809\n",
            "iteration :  400  loss :  0.0006169026951758099\n"
          ]
        }
      ],
      "source": [
        "# Training model\n",
        "theta, cost = gradient_descent (theta, X, Y, learning_rate, max_iteration, 100)"
      ]
    },
    {
      "cell_type": "code",
      "execution_count": 371,
      "metadata": {
        "id": "vvpjzEMhD1x8",
        "colab": {
          "base_uri": "https://localhost:8080/",
          "height": 0
        },
        "outputId": "c90c4b4f-401b-427c-baea-a50c8600a639"
      },
      "outputs": [
        {
          "output_type": "execute_result",
          "data": {
            "text/plain": [
              "array([[0.12381477],\n",
              "       [0.04264512],\n",
              "       [0.05698502]])"
            ]
          },
          "metadata": {},
          "execution_count": 371
        }
      ],
      "source": [
        "#optimal value is :\n",
        "theta"
      ]
    },
    {
      "cell_type": "code",
      "execution_count": 372,
      "metadata": {
        "id": "IU5vvSCtD6mR",
        "colab": {
          "base_uri": "https://localhost:8080/",
          "height": 295
        },
        "outputId": "87bddd24-7adf-424a-dd79-24680a91977b"
      },
      "outputs": [
        {
          "output_type": "display_data",
          "data": {
            "image/png": "[encoded data removed]",
            "text/plain": [
              "<Figure size 432x288 with 1 Axes>"
            ]
          },
          "metadata": {
            "needs_background": "light"
          }
        }
      ],
      "source": [
        "#plot cost\n",
        "fig, ax = plt.subplots()  \n",
        "ax.plot(np.arange(max_iteration), cost, 'r')  \n",
        "ax.legend(loc='upper right', labels=['batch gradient descent'])\n",
        "ax.set_xlabel('Iterations')  \n",
        "ax.set_ylabel('Cost')  \n",
        "ax.set_title('Error vs. Training Epoch')  \n",
        "\n",
        "plt.show()"
      ]
    },
    {
      "cell_type": "markdown",
      "metadata": {
        "id": "H6J6BrZ6EID4"
      },
      "source": [
        "## 7) Implement Stochastic Gradient Descent. Please run."
      ]
    },
    {
      "cell_type": "code",
      "execution_count": 373,
      "metadata": {
        "id": "tUZtoNtNEVU1"
      },
      "outputs": [],
      "source": [
        "def stochastic_gradient_descent (theta, X, Y, learning_rate, max_iteration, gap) :\n",
        "  cost = np.zeros(max_iteration)\n",
        "  for i in range(max_iteration) :\n",
        "    for j in range(X.shape[0]):\n",
        "      d_theta = gradient (theta, X[j,:].reshape(1, X.shape[1]), Y[j,:].reshape(1, 1))\n",
        "      theta = theta - learning_rate * d_theta\n",
        "    \n",
        "    cost[i] = loss(theta, X, Y)\n",
        "    if i % gap == 0 :\n",
        "      print ('iteration : ', i, ' loss : ', loss(theta, X, Y)) \n",
        "  return theta, cost"
      ]
    },
    {
      "cell_type": "code",
      "execution_count": 374,
      "metadata": {
        "id": "sCqvlEunEeN7"
      },
      "outputs": [],
      "source": [
        "theta_stoc = np.zeros((data.shape[1], 1))"
      ]
    },
    {
      "cell_type": "code",
      "execution_count": 375,
      "metadata": {
        "id": "UkEj9jgJE59l",
        "colab": {
          "base_uri": "https://localhost:8080/",
          "height": 0
        },
        "outputId": "6a9b384d-40ec-48a8-e312-50714c5d4701"
      },
      "outputs": [
        {
          "output_type": "stream",
          "name": "stdout",
          "text": [
            "iteration :  0  loss :  0.0007764556902156442\n",
            "iteration :  100  loss :  0.0004037848207345314\n",
            "iteration :  200  loss :  0.00036553095210465356\n",
            "iteration :  300  loss :  0.000347847758744226\n",
            "iteration :  400  loss :  0.00033956148785195\n"
          ]
        }
      ],
      "source": [
        "theta_stoc, cost_stoc = stochastic_gradient_descent (theta_stoc, X, Y, learning_rate, max_iteration, 100)"
      ]
    },
    {
      "cell_type": "code",
      "execution_count": 376,
      "metadata": {
        "id": "t1l_uNl7FSev",
        "colab": {
          "base_uri": "https://localhost:8080/",
          "height": 295
        },
        "outputId": "83d362e7-c7c0-4580-93c5-e85e0e8244f8"
      },
      "outputs": [
        {
          "output_type": "display_data",
          "data": {
            "image/png": "[encoded data removed]",
            "text/plain": [
              "<Figure size 432x288 with 1 Axes>"
            ]
          },
          "metadata": {
            "needs_background": "light"
          }
        }
      ],
      "source": [
        "#plot the cost\n",
        "fig, ax = plt.subplots()  \n",
        "ax.plot(np.arange(max_iteration), cost, 'r')  \n",
        "ax.plot(np.arange(max_iteration), cost_stoc, 'b')  \n",
        "#ax.plot(np.arange(max_iteration), mb_cost, 'g')  \n",
        "ax.legend(loc='upper right', labels=['batch gradient descent', 'stochastic gradient descent'])#, 'mini-batch gradient descent'])\n",
        "ax.set_xlabel('Iterations')  \n",
        "ax.set_ylabel('Cost')  \n",
        "ax.set_title('Error vs. Training Epoch')  \n",
        "\n",
        "plt.show()"
      ]
    },
    {
      "cell_type": "code",
      "execution_count": 377,
      "metadata": {
        "id": "zzfzq8IuIEDW",
        "colab": {
          "base_uri": "https://localhost:8080/",
          "height": 248
        },
        "outputId": "598b9c6f-6bcf-4a78-d49a-43e820456c00"
      },
      "outputs": [
        {
          "output_type": "display_data",
          "data": {
            "image/png": "[encoded data removed]",
            "text/plain": [
              "<Figure size 432x288 with 1 Axes>"
            ]
          },
          "metadata": {
            "needs_background": "light"
          }
        }
      ],
      "source": [
        "np.random.seed(42)\n",
        "\n",
        "fig = plt.figure()\n",
        "ax = fig.add_subplot(111, projection='3d')\n",
        "\n",
        "xs = X[:, 0]\n",
        "ys = X[:, 1]\n",
        "zs = Y\n",
        "ax.scatter(xs, ys, zs)\n",
        "\n",
        "ax.set_xlabel('PovPct')\n",
        "ax.set_ylabel('ViolCrime')\n",
        "ax.set_zlabel('TeenBrth')\n",
        "\n",
        "# new \n",
        "x = y = np.arange(0, 0.3, 0.05)\n",
        "xp, yp = np.meshgrid(x, y)\n",
        "z = np.array([h(theta, np.array([[x,y]]))[0, 0] for x,y in zip(np.ravel(xp), np.ravel(yp))])\n",
        "zp = z.reshape(xp.shape)\n",
        "\n",
        "ax.plot_surface(xp, yp, zp, alpha=0.7)\n",
        "\n",
        "plt.show()"
      ]
    },
    {
      "cell_type": "markdown",
      "metadata": {
        "id": "16472KMCdjHL"
      },
      "source": [
        "# Problem 4, predict house price.\n",
        "\n",
        "* import real_estate.csv \n",
        "* Are there any null values in the dataset? Drop any missing data if exist. \n",
        "* Create X as a 1-D array of the distance to the nearest MRT station, and y as the housing price\n",
        "* What is the number of samples in the data set? To do this, you can look at the \"shape\" of X and y\n",
        "* Split the data into train and test sets using sklearn's train_test_split, with test_size = 1/3\n",
        "* Find the line of best fit using a Linear Regression and show the result of coefficients and intercept (you can use sklearn's linear regression)\n",
        "* Using the predict method, make predictions for the test set and evaluate the performance (e.g., MSE or other metrics)."
      ]
    },
    {
      "cell_type": "code",
      "execution_count": 378,
      "metadata": {
        "id": "PqOU1luWyEmO"
      },
      "outputs": [],
      "source": [
        "data_estate = pd.read_csv(\"real_estate.csv\")"
      ]
    },
    {
      "cell_type": "code",
      "source": [
        "data_estate.isnull().any()"
      ],
      "metadata": {
        "colab": {
          "base_uri": "https://localhost:8080/",
          "height": 0
        },
        "id": "8dcy-w0QFh6J",
        "outputId": "8f40e913-2c6d-4f46-89b5-11f4698cbe63"
      },
      "execution_count": 379,
      "outputs": [
        {
          "output_type": "execute_result",
          "data": {
            "text/plain": [
              "No                                        False\n",
              "X1 transaction date                       False\n",
              "X2 house age                              False\n",
              "X3 distance to the nearest MRT station    False\n",
              "X4 number of convenience stores           False\n",
              "X5 latitude                               False\n",
              "X6 longitude                              False\n",
              "Y house price of unit area                False\n",
              "dtype: bool"
            ]
          },
          "metadata": {},
          "execution_count": 379
        }
      ]
    },
    {
      "cell_type": "code",
      "source": [
        "X = data_estate[\"X3 distance to the nearest MRT station\"]\n",
        "y = data_estate[\"Y house price of unit area\"]\n",
        "print(\"Number of samples: \", X.shape[0])"
      ],
      "metadata": {
        "colab": {
          "base_uri": "https://localhost:8080/",
          "height": 0
        },
        "id": "4Ux9GSo4F-gt",
        "outputId": "f71d61d2-876f-4c79-f8df-ab1a7d11413e"
      },
      "execution_count": 380,
      "outputs": [
        {
          "output_type": "stream",
          "name": "stdout",
          "text": [
            "Number of samples:  414\n"
          ]
        }
      ]
    },
    {
      "cell_type": "code",
      "source": [
        "from sklearn.model_selection import train_test_split\n",
        "X_train, X_test, y_train, y_test = train_test_split(X, y, test_size=1/3, random_state=42)"
      ],
      "metadata": {
        "id": "31ZgAFLlImKf"
      },
      "execution_count": 381,
      "outputs": []
    },
    {
      "cell_type": "code",
      "source": [
        "plt.plot(X, y, \"b.\")\n",
        "plt.xlabel(\"Distance to Nearest MRT\", fontsize=12)\n",
        "plt.ylabel(\"House Price\", rotation=90, fontsize=12)"
      ],
      "metadata": {
        "colab": {
          "base_uri": "https://localhost:8080/",
          "height": 301
        },
        "id": "6uvz5q2iJfxk",
        "outputId": "3b4e2b59-8f07-45d8-f614-925850b2b2bd"
      },
      "execution_count": 382,
      "outputs": [
        {
          "output_type": "execute_result",
          "data": {
            "text/plain": [
              "Text(0, 0.5, 'House Price')"
            ]
          },
          "metadata": {},
          "execution_count": 382
        },
        {
          "output_type": "display_data",
          "data": {
            "image/png": "[encoded data removed]",
            "text/plain": [
              "<Figure size 432x288 with 1 Axes>"
            ]
          },
          "metadata": {
            "needs_background": "light"
          }
        }
      ]
    },
    {
      "cell_type": "code",
      "source": [
        "X_train_b = np.c_[np.ones((276,1)), X_train] # Adding artificial features\n",
        "lin_reg =  LinearRegression() # instantiate LinearRegression\n",
        "lin_reg.fit(X_train_b, y_train) # X_b from earlier where we added the artificial features\n",
        "print(lin_reg.intercept_, lin_reg.coef_[1]) # theta_0 is always the intercept, theta_1 is the coefficient"
      ],
      "metadata": {
        "colab": {
          "base_uri": "https://localhost:8080/",
          "height": 0
        },
        "id": "Sy6JSZvpJ1Sr",
        "outputId": "101dbfbe-6911-4981-b42f-d19cc1316718"
      },
      "execution_count": 383,
      "outputs": [
        {
          "output_type": "stream",
          "name": "stdout",
          "text": [
            "46.68201580875155 -0.007648428745582546\n"
          ]
        }
      ]
    },
    {
      "cell_type": "code",
      "source": [
        "plt.plot(X, y, \"b.\")\n",
        "plt.xlabel(\"Distance to Nearest MRT\", fontsize=12)\n",
        "plt.ylabel(\"House Price\", rotation=90, fontsize=12)\n",
        "fig = plt.plot(X, lin_reg.coef_[1]*X + lin_reg.intercept_, linewidth=2, c='red', label='regression line')"
      ],
      "metadata": {
        "colab": {
          "base_uri": "https://localhost:8080/",
          "height": 283
        },
        "id": "13RknHjNKtB3",
        "outputId": "bd6e64a9-82b0-461c-827a-b2e7beb6aee7"
      },
      "execution_count": 384,
      "outputs": [
        {
          "output_type": "display_data",
          "data": {
            "image/png": "[encoded data removed]",
            "text/plain": [
              "<Figure size 432x288 with 1 Axes>"
            ]
          },
          "metadata": {
            "needs_background": "light"
          }
        }
      ]
    },
    {
      "cell_type": "code",
      "source": [
        "from sklearn.metrics import mean_squared_error\n",
        "X_test_b = np.c_[np.ones((138,1)), X_test] # Adding artificial features\n",
        "y_pred = lin_reg.predict(X_test_b)\n",
        "rmse = np.sqrt(mean_squared_error(y_test, y_pred))\n",
        "mean_squared_error(y_test, y_pred,squared=False)"
      ],
      "metadata": {
        "colab": {
          "base_uri": "https://localhost:8080/",
          "height": 0
        },
        "id": "pevF1QzLQdr1",
        "outputId": "4778e3f6-eac7-4d42-af18-6e1a44f1092c"
      },
      "execution_count": 385,
      "outputs": [
        {
          "output_type": "execute_result",
          "data": {
            "text/plain": [
              "9.56664968149907"
            ]
          },
          "metadata": {},
          "execution_count": 385
        }
      ]
    }
  ],
  "metadata": {
    "colab": {
      "collapsed_sections": [],
      "name": "Assignment2.ipynb",
      "provenance": []
    },
    "kernelspec": {
      "display_name": "Python 3 (ipykernel)",
      "language": "python",
      "name": "python3"
    },
    "language_info": {
      "codemirror_mode": {
        "name": "ipython",
        "version": 3
      },
      "file_extension": ".py",
      "mimetype": "text/x-python",
      "name": "python",
      "nbconvert_exporter": "python",
      "pygments_lexer": "ipython3",
      "version": "3.9.7"
    }
  },
  "nbformat": 4,
  "nbformat_minor": 0
}